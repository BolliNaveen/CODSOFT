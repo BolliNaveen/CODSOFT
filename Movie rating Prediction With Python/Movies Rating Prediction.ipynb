{
 "cells": [
  {
   "cell_type": "markdown",
   "id": "2f6e1505-dec5-4516-98d5-e45f969404be",
   "metadata": {},
   "source": [
    "***Movies Rating Prediction***"
   ]
  },
  {
   "cell_type": "markdown",
   "id": "59c4bb93-e105-48c2-ba36-5c1e4900f7a0",
   "metadata": {},
   "source": [
    "***Importing Libraries***"
   ]
  },
  {
   "cell_type": "code",
   "execution_count": null,
   "id": "78e97dd9-c2bf-47b6-b67f-6b877a0ea105",
   "metadata": {},
   "outputs": [],
   "source": [
    "import pandas as pd\n",
    "import numpy as np\n",
    "import seaborn as sns\n",
    "from matplotlib import pyplot as plt\n",
    "import plotly.graph_objects as go\n",
    "import plotly.express as px\n",
    "from collections import namedtuple\n",
    "from IPython.display import display\n",
    "from sklearn.model_selection import train_test_split\n",
    "from sklearn.linear_model import LinearRegression\n",
    "from sklearn.ensemble import RandomForestRegressor\n",
    "from sklearn.metrics import mean_squared_error, mean_absolute_error, r2_score"
   ]
  },
  {
   "cell_type": "markdown",
   "id": "24248ff9-02d1-4f83-a26a-d0016fdbbbf6",
   "metadata": {},
   "source": [
    "***Data Preprocessing***"
   ]
  },
  {
   "cell_type": "code",
   "execution_count": null,
   "id": "64f05c36-7304-443e-923a-27040596ed94",
   "metadata": {},
   "outputs": [],
   "source": [
    "df=pd.read_csv('IMDb Movies India.csv',encoding='latin-1')\n",
    "df"
   ]
  },
  {
   "cell_type": "code",
   "execution_count": null,
   "id": "630c5598-c1c6-41ca-85fb-1232f3628b92",
   "metadata": {},
   "outputs": [],
   "source": [
    "#checking the information \n",
    "df.info()"
   ]
  },
  {
   "cell_type": "code",
   "execution_count": null,
   "id": "33bcd7ca-b8e5-428f-9f5f-7da0ba372e83",
   "metadata": {},
   "outputs": [],
   "source": [
    "#checking for null values\n",
    "\n",
    "df.isnull().sum()"
   ]
  },
  {
   "cell_type": "code",
   "execution_count": null,
   "id": "1e823cdc-1d6b-4220-a9f6-d3c7d601f2d4",
   "metadata": {},
   "outputs": [],
   "source": [
    "#cheching for duplicate values\n",
    "df.duplicated().sum()"
   ]
  },
  {
   "cell_type": "markdown",
   "id": "6a7e09be-8d6f-4144-9f9c-2ff203d82d67",
   "metadata": {},
   "source": [
    "***Data Cleaning***"
   ]
  },
  {
   "cell_type": "code",
   "execution_count": null,
   "id": "d2ffced4-86af-454a-8d67-b3eca17a8f8c",
   "metadata": {},
   "outputs": [],
   "source": [
    "df['Duration'] = df['Duration'].str.replace('min', '').apply(pd.to_numeric)\n",
    "df[\"Votes\"] = df[\"Votes\"].replace(\"$5.16M\", 516)\n",
    "df[\"Votes\"] = pd.to_numeric(df['Votes'].str.replace(',', ''))\n",
    "\n",
    "# Dropping null values\n",
    "df.dropna(subset=['Year'], inplace=True)\n",
    "df.dropna(subset=['Genre'], inplace=True)\n",
    "\n",
    "# Replacing Null Values ....\n",
    "df['Rating'].fillna(df['Rating'].mode().max(), inplace=True)\n",
    "df['Duration'].fillna(df['Duration'].mean(), inplace=True)\n",
    "df['Votes'].fillna(df['Votes'].mean(), inplace=True)\n",
    "df.dropna(subset=['Director', 'Actor 1', 'Actor 2', 'Actor 3', 'Genre'], inplace=True)"
   ]
  },
  {
   "cell_type": "code",
   "execution_count": null,
   "id": "37b05eaf-3d8c-4aca-9dc5-908c1b6ede26",
   "metadata": {},
   "outputs": [],
   "source": [
    "#Checking Null Values again for confirmation.\n",
    "print('Null Values in Year Column',df['Year'].isnull().sum())\n",
    "print('Null Values in Genre Column',df['Genre'].isnull().sum())"
   ]
  },
  {
   "cell_type": "markdown",
   "id": "0c59c3f3-064e-442d-9177-35518f9a032a",
   "metadata": {},
   "source": [
    "***Data Visualization***"
   ]
  },
  {
   "cell_type": "code",
   "execution_count": null,
   "id": "54125428-d538-4623-8d46-2a6805dd1002",
   "metadata": {},
   "outputs": [],
   "source": [
    "def Talents(column):\n",
    "    global df\n",
    "    df[column].value_counts().sort_values(ascending=False)[:10].plot(kind=\"bar\", figsize=(20,6), edgecolor=\"k\")\n",
    "    plt.xticks(rotation=0)\n",
    "    plt.title(\"Top Ten {}\".format(column))\n",
    "    plt.xlabel(column)\n",
    "    plt.ylabel(\"Count\")\n",
    "    plt.show()"
   ]
  },
  {
   "cell_type": "code",
   "execution_count": null,
   "id": "b8c280b6-9a11-40f0-8306-a0fe801d873a",
   "metadata": {},
   "outputs": [],
   "source": [
    "def Histo(column):\n",
    "    global df\n",
    "    plt.figure(figsize=(20,6))\n",
    "    plt.hist(df[column], edgecolor=\"k\")\n",
    "    plt.xticks(rotation=0)\n",
    "    plt.title(\"Histogram of {}\".format(column))\n",
    "    plt.xlabel(column)\n",
    "    plt.ylabel(\"Frequency\")\n",
    "    plt.show()"
   ]
  },
  {
   "cell_type": "code",
   "execution_count": null,
   "id": "8dbbb84f-6f2b-4227-8a5f-636454ffd095",
   "metadata": {},
   "outputs": [],
   "source": [
    "def Scatter(x, y, c=None):\n",
    "    global df\n",
    "    plt.figure(figsize=(20,6))\n",
    "    plt.scatter(df[x], df[y], edgecolor=\"k\", c=c)\n",
    "    plt.xticks(rotation=0)\n",
    "    plt.title(\"Scatter plot X:{} / Y:{}\".format(x, y))\n",
    "    plt.xlabel(x)\n",
    "    plt.ylabel(y)\n",
    "    plt.show()  "
   ]
  },
  {
   "cell_type": "code",
   "execution_count": null,
   "id": "260d1d4a-38b6-41d9-a68d-03cae1167fa1",
   "metadata": {},
   "outputs": [],
   "source": [
    "Talents(\"Director\")\n",
    "Talents(\"Actor 1\")\n",
    "Talents(\"Actor 2\")\n",
    "Talents(\"Actor 3\")\n",
    "Histo(\"Year\")\n",
    "Histo(\"Duration\")\n",
    "Histo(\"Votes\")\n",
    "Histo(\"Rating\")"
   ]
  },
  {
   "cell_type": "markdown",
   "id": "859e0eb3-f7ab-4e27-b8ae-8a12d2b2a186",
   "metadata": {},
   "source": [
    "***Pair Plots and Correlation Matrix***"
   ]
  },
  {
   "cell_type": "code",
   "execution_count": null,
   "id": "987a6b97-00c8-4176-89e6-83102838aec3",
   "metadata": {},
   "outputs": [],
   "source": [
    "import seaborn as sns\n",
    "\n",
    "sns.pairplot(df)\n",
    "numeric_columns = df.select_dtypes(include=['float64', 'int64']).columns\n",
    "correlation_matrix = df[numeric_columns].corr(method='spearman')"
   ]
  },
  {
   "cell_type": "markdown",
   "id": "a9eb812d-6d19-4524-b952-609b7e6d2726",
   "metadata": {},
   "source": [
    "***Model Deployment***"
   ]
  },
  {
   "cell_type": "code",
   "execution_count": null,
   "id": "f6ef8b9b-2dea-4cc7-984b-551cc9b3764e",
   "metadata": {},
   "outputs": [],
   "source": [
    "non_numeric_columns = df.select_dtypes(exclude=['float64', 'int64']).columns\n",
    "print(non_numeric_columns)"
   ]
  },
  {
   "cell_type": "code",
   "execution_count": null,
   "id": "741e2625-c530-4675-9c20-b9b8e99fa033",
   "metadata": {},
   "outputs": [],
   "source": [
    "numeric_columns = df.select_dtypes(include=['float64', 'int64']).columns\n",
    "correlation_matrix = df[numeric_columns].corr(method='spearman')\n",
    "print(df.columns)"
   ]
  },
  {
   "cell_type": "code",
   "execution_count": null,
   "id": "3e1e7ea8-373b-4eef-b986-b432d666b8b2",
   "metadata": {},
   "outputs": [],
   "source": [
    "#Dropping nulll values \n",
    ".dropna(subset=['Director', 'Actor 1', 'Actor 2', 'Actor 3', 'Genre'], inplace=True)\n",
    "(round(df.isnull().sum()/df.isnull().count(), 4)*100).sort_values(ascending=False)"
   ]
  },
  {
   "cell_type": "code",
   "execution_count": null,
   "id": "bd984dc5-56c3-439a-bc2c-f21af1fc95d4",
   "metadata": {},
   "outputs": [],
   "source": [
    "\n",
    "# Assuming 'df' is your DataFrame\n",
    "\n",
    "# Extracting the numeric part from the 'Year' column\n",
    "df['Year'] = df['Year'].str.extract('(\\d+)').astype(float)\n",
    "\n",
    "# Encoding categorical variables based on mean ratings\n",
    "actor1_encoding_map = df.groupby('Actor 1').agg({'Rating': 'mean'}).to_dict()['Rating']\n",
    "actor2_encoding_map = df.groupby('Actor 2').agg({'Rating': 'mean'}).to_dict()['Rating']\n",
    "actor3_encoding_map = df.groupby('Actor 3').agg({'Rating': 'mean'}).to_dict()['Rating']\n",
    "director_encoding_map = df.groupby('Director').agg({'Rating': 'mean'}).to_dict()['Rating']\n",
    "genre_encoding_map = df.groupby('Genre').agg({'Rating': 'mean'}).to_dict()['Rating']\n",
    "\n",
    "df['actor1_encoded'] = round(df['Actor 1'].map(actor1_encoding_map), 1)\n",
    "df['actor2_encoded'] = round(df['Actor 2'].map(actor2_encoding_map), 1)\n",
    "df['actor3_encoded'] = round(df['Actor 3'].map(actor3_encoding_map), 1)\n",
    "df['director_encoded'] = round(df['Director'].map(director_encoding_map), 1)\n",
    "df['genre_encoded'] = round(df['Genre'].map(genre_encoding_map), 1)\n",
    "\n",
    "# Drop original categorical columns\n",
    "df.drop(['Actor 1', 'Actor 2', 'Actor 3', 'Director', 'Genre'], axis=1, inplace=True)\n",
    "\n",
    "# Define features and target variable\n",
    "X = df[['Year', 'Duration', 'Votes', 'actor1_encoded', 'actor2_encoded', 'actor3_encoded', 'director_encoded', 'genre_encoded']]\n",
    "y = df['Rating']\n",
    "\n",
    "# Split data into train and test sets\n",
    "X_train, X_test, y_train, y_test = train_test_split(X, y, test_size=0.2, random_state=42)\n",
    "\n",
    "# Model Building - Linear Regression\n",
    "lr = LinearRegression()\n",
    "lr.fit(X_train, y_train)\n",
    "lr_pred = lr.predict(X_test)\n",
    "\n",
    "# Model Building - Random Forest Regressor\n",
    "rf = RandomForestRegressor()\n",
    "rf.fit(X_train, y_train)\n",
    "rf_pred = rf.predict(X_test)"
   ]
  },
  {
   "cell_type": "markdown",
   "id": "73286807-15fb-40c9-8cac-4432ee17eb71",
   "metadata": {},
   "source": [
    "***Model Evalution***"
   ]
  },
  {
   "cell_type": "code",
   "execution_count": null,
   "id": "4e3378fe-d49f-4acf-a9d8-30e6d5a16425",
   "metadata": {},
   "outputs": [],
   "source": [
    "# Evaluate Linear Regression\n",
    "print('Linear Regression Metrics:')\n",
    "print('Mean Squared Error:', mean_squared_error(y_test, lr_pred))\n",
    "print('Mean Absolute Error:', mean_absolute_error(y_test, lr_pred))\n",
    "print('R2 Score:', r2_score(y_test, lr_pred))\n",
    "\n",
    "# Evaluate Random Forest Regressor\n",
    "print('\\nRandom Forest Regressor Metrics:')\n",
    "print('Mean Squared Error:', mean_squared_error(y_test, rf_pred))\n",
    "print('Mean Absolute Error:', mean_absolute_error(y_test, rf_pred))\n",
    "print('R2 Score:', r2_score(y_test, rf_pred))"
   ]
  },
  {
   "cell_type": "markdown",
   "id": "43f268e1-ec2b-43a7-bb3c-a5f20c741a3a",
   "metadata": {},
   "source": [
    "***Visualization of Model Predictions***"
   ]
  },
  {
   "cell_type": "code",
   "execution_count": null,
   "id": "8cd8f313-d080-4b2b-83c2-1ba91022a08c",
   "metadata": {},
   "outputs": [],
   "source": [
    "import matplotlib.pyplot as plt\n",
    "\n",
    "# Scatter plot for Linear Regression predictions\n",
    "plt.figure(figsize=(8, 6))\n",
    "plt.scatter(y_test, lr_pred, alpha=0.5)\n",
    "plt.title('Linear Regression: Actual vs Predicted Ratings')\n",
    "plt.xlabel('Actual Ratings')\n",
    "plt.ylabel('Predicted Ratings')\n",
    "plt.show()\n",
    "\n",
    "# Scatter plot for Random Forest Regressor predictions\n",
    "plt.figure(figsize=(8, 6))\n",
    "plt.scatter(y_test, rf_pred, alpha=0.5)\n",
    "plt.title('Random Forest Regressor: Actual vs Predicted Ratings')\n",
    "plt.xlabel('Actual Ratings')\n",
    "plt.ylabel('Predicted Ratings')\n",
    "plt.show()"
   ]
  }
 ],
 "metadata": {
  "kernelspec": {
   "display_name": "Python 3 (ipykernel)",
   "language": "python",
   "name": "python3"
  },
  "language_info": {
   "codemirror_mode": {
    "name": "ipython",
    "version": 3
   },
   "file_extension": ".py",
   "mimetype": "text/x-python",
   "name": "python",
   "nbconvert_exporter": "python",
   "pygments_lexer": "ipython3",
   "version": "3.12.0"
  },
  "widgets": {
   "application/vnd.jupyter.widget-state+json": {
    "state": {},
    "version_major": 2,
    "version_minor": 0
   }
  }
 },
 "nbformat": 4,
 "nbformat_minor": 5
}
